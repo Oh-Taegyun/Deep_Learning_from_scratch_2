{
 "cells": [
  {
   "attachments": {},
   "cell_type": "markdown",
   "metadata": {},
   "source": [
    "## Chapter 3 - word2vec\n",
    "---"
   ]
  },
  {
   "cell_type": "code",
   "execution_count": 15,
   "metadata": {},
   "outputs": [],
   "source": [
    "import numpy as np\n",
    "import matplotlib.pyplot as plt"
   ]
  },
  {
   "attachments": {},
   "cell_type": "markdown",
   "metadata": {},
   "source": [
    "##### 1. 학습 데이터 준비\n"
   ]
  },
  {
   "attachments": {},
   "cell_type": "markdown",
   "metadata": {},
   "source": [
    "1. 말뭉치 생성하는 함수"
   ]
  },
  {
   "cell_type": "code",
   "execution_count": 2,
   "metadata": {},
   "outputs": [],
   "source": [
    "def preprocess(text):\n",
    "    text = text.lower()\n",
    "    text = text.replace('.', ' .')\n",
    "    words = text.split(' ')\n",
    "\n",
    "    word_to_id = {}\n",
    "    id_to_word = {}\n",
    "    for word in words:\n",
    "        if word not in word_to_id:\n",
    "            new_id = len(word_to_id)\n",
    "            word_to_id[word] = new_id\n",
    "            id_to_word[new_id] = word\n",
    "\n",
    "    corpus = np.array([word_to_id[w] for w in words])\n",
    "\n",
    "    return corpus, word_to_id, id_to_word"
   ]
  },
  {
   "attachments": {},
   "cell_type": "markdown",
   "metadata": {},
   "source": [
    "2. 맥락과 타깃 생성하는 함수"
   ]
  },
  {
   "cell_type": "code",
   "execution_count": 3,
   "metadata": {},
   "outputs": [],
   "source": [
    "def create_contexts_target(corpus, window_size=1):\n",
    "    '''맥락과 타깃 생성\n",
    "\n",
    "    :param corpus: 말뭉치(단어 ID 목록)\n",
    "    :param window_size: 윈도우 크기(윈도우 크기가 1이면 타깃 단어 좌우 한 단어씩이 맥락에 포함)\n",
    "    :return:\n",
    "    '''\n",
    "    target = corpus[window_size:-window_size]\n",
    "    contexts = []\n",
    "\n",
    "    for idx in range(window_size, len(corpus)-window_size):\n",
    "        cs = []\n",
    "        for t in range(-window_size, window_size + 1):\n",
    "            if t == 0:\n",
    "                continue\n",
    "            cs.append(corpus[idx + t])\n",
    "        contexts.append(cs)\n",
    "\n",
    "    return np.array(contexts), np.array(target)"
   ]
  },
  {
   "attachments": {},
   "cell_type": "markdown",
   "metadata": {},
   "source": [
    "3. 맥락을 원 핫 벡터 표현으로 바꾸기"
   ]
  },
  {
   "cell_type": "code",
   "execution_count": 4,
   "metadata": {},
   "outputs": [],
   "source": [
    "def convert_one_hot(corpus, vocab_size):\n",
    "    '''원핫 표현으로 변환\n",
    "\n",
    "    :param corpus: 단어 ID 목록(1차원 또는 2차원 넘파이 배열)\n",
    "    :param vocab_size: 어휘 수\n",
    "    :return: 원핫 표현(2차원 또는 3차원 넘파이 배열)\n",
    "    '''\n",
    "    N = corpus.shape[0]\n",
    "\n",
    "    if corpus.ndim == 1:\n",
    "        one_hot = np.zeros((N, vocab_size), dtype=np.int32)\n",
    "        for idx, word_id in enumerate(corpus):\n",
    "            one_hot[idx, word_id] = 1\n",
    "\n",
    "    elif corpus.ndim == 2:\n",
    "        C = corpus.shape[1]\n",
    "        one_hot = np.zeros((N, C, vocab_size), dtype=np.int32)\n",
    "        for idx_0, word_ids in enumerate(corpus):\n",
    "            for idx_1, word_id in enumerate(word_ids):\n",
    "                one_hot[idx_0, idx_1, word_id] = 1\n",
    "\n",
    "    return one_hot"
   ]
  },
  {
   "attachments": {},
   "cell_type": "markdown",
   "metadata": {},
   "source": [
    "##### 2. 간단한 CBOW 모델 구현하기\n",
    "\n",
    "원래 책에는 책 전용 구현 규칙을 따른다. 하지만 이미 파이토치를 공부해서 CNN을 만들어 봤기에... 책에 있는 내용들을 파이토치로 다시 구현해보겠다\n",
    "\n",
    "1. 모델 구현"
   ]
  },
  {
   "cell_type": "code",
   "execution_count": 5,
   "metadata": {},
   "outputs": [],
   "source": [
    "import torch\n",
    "import torch.nn as nn\n",
    "\n",
    "class SimpleCBOW(nn.Module):\n",
    "    def __init__(self, vocab_size, hidden_size):\n",
    "        super().__init__()\n",
    "        V = vocab_size\n",
    "        H = hidden_size\n",
    "        \n",
    "        # 계층\n",
    "        self.in_layer = nn.Linear(V,H)\n",
    "        self.out_layer = nn.Linear(H,V)\n",
    "\n",
    "        self.word_vecs = self.in_layer.weight # 입력 측의 가중치를 단어의 분산 표현으로 사용할 것이다!\n",
    "\n",
    "    def forward(self, contexts):\n",
    "        h0 = self.in_layer(contexts[0,:])\n",
    "        h1 = self.in_layer(contexts[1,:])\n",
    "        h = (h0 + h1) * 0.5 # 계층이 아니더라도 이렇게 연산을 해주면 텐서가 메모리에서 지워지지 않는 한, 계산 그래프는 계속해서 생성될 것이다. 물론  __init__에 임의의 계층을 즉석으로 만들어서 붙여놔도 된다. \n",
    "        # 이거 헷갈리면 계층과 함수에 대해서 다시 공부하도록 하자, 이는 내 깃허브 밑바닥부터 시작하는 딥러닝 3에 질문과 답변에 잘 적어두었다. 그리고 파이토치 공부하기 nn.Module도 참고하자\n",
    "        out = self.out_layer(h)\n",
    "        return out\n"
   ]
  },
  {
   "attachments": {},
   "cell_type": "markdown",
   "metadata": {},
   "source": [
    "2. 데이터셋 준비"
   ]
  },
  {
   "cell_type": "code",
   "execution_count": 20,
   "metadata": {},
   "outputs": [],
   "source": [
    "import torch\n",
    "from torch.utils.data import DataLoader\n",
    "from torch.utils.data import Dataset\n",
    "import time\n",
    "\n",
    "text = 'Yoy say goodbye and I say hello.'\n",
    "\n",
    "\n",
    "class Corpus_Dataset(Dataset):\n",
    "    def __init__(self, text, window_size = 1):\n",
    "        self.window_size = window_size\n",
    "        self.corpus, self.word_to_id, self.id_to_word = preprocess(text) # 먼저 텍스트를 말뭉치와 word_to_id로 바꾼다\n",
    "        self.vocab_size = len(self.word_to_id)\n",
    "\n",
    "        contexts, target = create_contexts_target(self.corpus, self.window_size)\n",
    "        self.contexts = convert_one_hot(contexts, self.vocab_size)\n",
    "        self.target = convert_one_hot(target, self.vocab_size)\n",
    "        self.target = target\n",
    "\n",
    "    def __len__(self):\n",
    "        return len(self.contexts) # 데이터의 갯수 반환 형상이 (6,2,7)이면 데이터의 갯수는 6이다.\n",
    "\n",
    "    def __getitem__(self, idx): # 데이터를 몇개씩 뽑을거냐 인데 저렇게 해두면 데이터가 올바르게 추출된다\n",
    "        input = torch.tensor(self.contexts[idx], dtype = torch.float32)\n",
    "        label = torch.tensor(self.target[idx], dtype = torch.long) # 손실함수 구할때 라벨은 long로 해야 한다고 하더라...\n",
    "        return input, label\n"
   ]
  },
  {
   "cell_type": "code",
   "execution_count": 21,
   "metadata": {},
   "outputs": [
    {
     "name": "stdout",
     "output_type": "stream",
     "text": [
      "tensor([1])\n",
      "tensor([[[1., 0., 0., 0., 0., 0., 0.],\n",
      "         [0., 0., 1., 0., 0., 0., 0.]]])\n",
      "tensor([2])\n",
      "tensor([[[0., 1., 0., 0., 0., 0., 0.],\n",
      "         [0., 0., 0., 1., 0., 0., 0.]]])\n",
      "tensor([3])\n",
      "tensor([[[0., 0., 1., 0., 0., 0., 0.],\n",
      "         [0., 0., 0., 0., 1., 0., 0.]]])\n",
      "tensor([4])\n",
      "tensor([[[0., 0., 0., 1., 0., 0., 0.],\n",
      "         [0., 1., 0., 0., 0., 0., 0.]]])\n",
      "tensor([1])\n",
      "tensor([[[0., 0., 0., 0., 1., 0., 0.],\n",
      "         [0., 0., 0., 0., 0., 1., 0.]]])\n",
      "tensor([5])\n",
      "tensor([[[0., 1., 0., 0., 0., 0., 0.],\n",
      "         [0., 0., 0., 0., 0., 0., 1.]]])\n"
     ]
    }
   ],
   "source": [
    "from torch.utils.data import DataLoader\n",
    "\n",
    "dataset = Corpus_Dataset(text)\n",
    "dataLoader = DataLoader(dataset)\n",
    "\n",
    "for input, label in dataLoader:\n",
    "    print(label)\n",
    "    print(input)\n"
   ]
  },
  {
   "attachments": {},
   "cell_type": "markdown",
   "metadata": {},
   "source": [
    "3. 모델 설정"
   ]
  },
  {
   "cell_type": "code",
   "execution_count": 22,
   "metadata": {},
   "outputs": [
    {
     "name": "stdout",
     "output_type": "stream",
     "text": [
      "지금 사용하는 device : cuda:0\n"
     ]
    }
   ],
   "source": [
    "device = torch.device(\"cuda:0\" if torch.cuda.is_available() else \"cpu\") #  torch.cuda.is_available() GPU를 사용가능하면 True, 아니라면 False를 리턴\n",
    "print(\"지금 사용하는 device :\",device)\n",
    "\n",
    "model = SimpleCBOW(vocab_size = 7, hidden_size = 5)\n",
    "criterion = nn.CrossEntropyLoss()\n",
    "optimizer = torch.optim.Adam(model.parameters(), lr = 0.05)\n",
    "\n",
    "dataset = Corpus_Dataset(text)\n",
    "dataloader = DataLoader(dataset)"
   ]
  },
  {
   "cell_type": "code",
   "execution_count": 23,
   "metadata": {},
   "outputs": [
    {
     "ename": "IndexError",
     "evalue": "Dimension out of range (expected to be in range of [-1, 0], but got 1)",
     "output_type": "error",
     "traceback": [
      "\u001b[1;31m---------------------------------------------------------------------------\u001b[0m",
      "\u001b[1;31mIndexError\u001b[0m                                Traceback (most recent call last)",
      "Cell \u001b[1;32mIn [23], line 10\u001b[0m\n\u001b[0;32m      7\u001b[0m model\u001b[39m.\u001b[39mto(device)\n\u001b[0;32m      9\u001b[0m output \u001b[39m=\u001b[39m model(inputs\u001b[39m.\u001b[39msqueeze()\u001b[39m.\u001b[39mto(device))\n\u001b[1;32m---> 10\u001b[0m loss \u001b[39m=\u001b[39m criterion(output, labels\u001b[39m.\u001b[39;49msqueeze()\u001b[39m.\u001b[39;49mto(device))\n\u001b[0;32m     11\u001b[0m optimizer\u001b[39m.\u001b[39mzero_grad() \u001b[39m# 기울기를 0으로 설정\u001b[39;00m\n\u001b[0;32m     12\u001b[0m \u001b[39mprint\u001b[39m(output)\n",
      "File \u001b[1;32mc:\\Users\\luili\\anaconda3\\envs\\Pytorch_studing\\lib\\site-packages\\torch\\nn\\modules\\module.py:1051\u001b[0m, in \u001b[0;36mModule._call_impl\u001b[1;34m(self, *input, **kwargs)\u001b[0m\n\u001b[0;32m   1047\u001b[0m \u001b[39m# If we don't have any hooks, we want to skip the rest of the logic in\u001b[39;00m\n\u001b[0;32m   1048\u001b[0m \u001b[39m# this function, and just call forward.\u001b[39;00m\n\u001b[0;32m   1049\u001b[0m \u001b[39mif\u001b[39;00m \u001b[39mnot\u001b[39;00m (\u001b[39mself\u001b[39m\u001b[39m.\u001b[39m_backward_hooks \u001b[39mor\u001b[39;00m \u001b[39mself\u001b[39m\u001b[39m.\u001b[39m_forward_hooks \u001b[39mor\u001b[39;00m \u001b[39mself\u001b[39m\u001b[39m.\u001b[39m_forward_pre_hooks \u001b[39mor\u001b[39;00m _global_backward_hooks\n\u001b[0;32m   1050\u001b[0m         \u001b[39mor\u001b[39;00m _global_forward_hooks \u001b[39mor\u001b[39;00m _global_forward_pre_hooks):\n\u001b[1;32m-> 1051\u001b[0m     \u001b[39mreturn\u001b[39;00m forward_call(\u001b[39m*\u001b[39m\u001b[39minput\u001b[39m, \u001b[39m*\u001b[39m\u001b[39m*\u001b[39mkwargs)\n\u001b[0;32m   1052\u001b[0m \u001b[39m# Do not call functions when jit is used\u001b[39;00m\n\u001b[0;32m   1053\u001b[0m full_backward_hooks, non_full_backward_hooks \u001b[39m=\u001b[39m [], []\n",
      "File \u001b[1;32mc:\\Users\\luili\\anaconda3\\envs\\Pytorch_studing\\lib\\site-packages\\torch\\nn\\modules\\loss.py:1120\u001b[0m, in \u001b[0;36mCrossEntropyLoss.forward\u001b[1;34m(self, input, target)\u001b[0m\n\u001b[0;32m   1119\u001b[0m \u001b[39mdef\u001b[39;00m \u001b[39mforward\u001b[39m(\u001b[39mself\u001b[39m, \u001b[39minput\u001b[39m: Tensor, target: Tensor) \u001b[39m-\u001b[39m\u001b[39m>\u001b[39m Tensor:\n\u001b[1;32m-> 1120\u001b[0m     \u001b[39mreturn\u001b[39;00m F\u001b[39m.\u001b[39;49mcross_entropy(\u001b[39minput\u001b[39;49m, target, weight\u001b[39m=\u001b[39;49m\u001b[39mself\u001b[39;49m\u001b[39m.\u001b[39;49mweight,\n\u001b[0;32m   1121\u001b[0m                            ignore_index\u001b[39m=\u001b[39;49m\u001b[39mself\u001b[39;49m\u001b[39m.\u001b[39;49mignore_index, reduction\u001b[39m=\u001b[39;49m\u001b[39mself\u001b[39;49m\u001b[39m.\u001b[39;49mreduction)\n",
      "File \u001b[1;32mc:\\Users\\luili\\anaconda3\\envs\\Pytorch_studing\\lib\\site-packages\\torch\\nn\\functional.py:2824\u001b[0m, in \u001b[0;36mcross_entropy\u001b[1;34m(input, target, weight, size_average, ignore_index, reduce, reduction)\u001b[0m\n\u001b[0;32m   2822\u001b[0m \u001b[39mif\u001b[39;00m size_average \u001b[39mis\u001b[39;00m \u001b[39mnot\u001b[39;00m \u001b[39mNone\u001b[39;00m \u001b[39mor\u001b[39;00m reduce \u001b[39mis\u001b[39;00m \u001b[39mnot\u001b[39;00m \u001b[39mNone\u001b[39;00m:\n\u001b[0;32m   2823\u001b[0m     reduction \u001b[39m=\u001b[39m _Reduction\u001b[39m.\u001b[39mlegacy_get_string(size_average, reduce)\n\u001b[1;32m-> 2824\u001b[0m \u001b[39mreturn\u001b[39;00m torch\u001b[39m.\u001b[39;49m_C\u001b[39m.\u001b[39;49m_nn\u001b[39m.\u001b[39;49mcross_entropy_loss(\u001b[39minput\u001b[39;49m, target, weight, _Reduction\u001b[39m.\u001b[39;49mget_enum(reduction), ignore_index)\n",
      "\u001b[1;31mIndexError\u001b[0m: Dimension out of range (expected to be in range of [-1, 0], but got 1)"
     ]
    }
   ],
   "source": [
    "dataset = Corpus_Dataset(text)\n",
    "dataLoader = DataLoader(dataset)\n",
    "\n",
    "for inputs, labels in dataLoader:\n",
    "    inputs.to(device)\n",
    "    labels.to(device)\n",
    "    model.to(device)\n",
    "\n",
    "    output = model(inputs.squeeze().to(device))\n",
    "    loss = criterion(output, labels.squeeze().to(device))\n",
    "    optimizer.zero_grad() # 기울기를 0으로 설정\n",
    "    print(output)\n",
    "    _, preds = torch.max(output, 0) # 결과값 추출"
   ]
  },
  {
   "attachments": {},
   "cell_type": "markdown",
   "metadata": {},
   "source": [
    "4. 학습하기"
   ]
  },
  {
   "cell_type": "code",
   "execution_count": null,
   "metadata": {},
   "outputs": [
    {
     "name": "stdout",
     "output_type": "stream",
     "text": [
      "Epoch 0/999\n",
      "----------\n"
     ]
    },
    {
     "ename": "RuntimeError",
     "evalue": "CUDA error: device-side assert triggered\nCUDA kernel errors might be asynchronously reported at some other API call,so the stacktrace below might be incorrect.\nFor debugging consider passing CUDA_LAUNCH_BLOCKING=1.",
     "output_type": "error",
     "traceback": [
      "\u001b[1;31m---------------------------------------------------------------------------\u001b[0m",
      "\u001b[1;31mRuntimeError\u001b[0m                              Traceback (most recent call last)",
      "Cell \u001b[1;32mIn [230], line 50\u001b[0m\n\u001b[0;32m     46\u001b[0m     \u001b[39mprint\u001b[39m(\u001b[39mf\u001b[39m\u001b[39m'\u001b[39m\u001b[39m이 모델의 최고 정확도: \u001b[39m\u001b[39m{\u001b[39;00mbest_acc\u001b[39m:\u001b[39;00m\u001b[39m4f\u001b[39m\u001b[39m}\u001b[39;00m\u001b[39m'\u001b[39m) \u001b[39m# 최고 정확도 \u001b[39;00m\n\u001b[0;32m     48\u001b[0m     \u001b[39mreturn\u001b[39;00m acc_history, loss_history\n\u001b[1;32m---> 50\u001b[0m acc_history, loss_history \u001b[39m=\u001b[39m train_model(model, dataloader, criterion, optimizer, device)\n",
      "Cell \u001b[1;32mIn [230], line 16\u001b[0m, in \u001b[0;36mtrain_model\u001b[1;34m(model, dataloaders, crtierion, optimizer, device, num_epochs)\u001b[0m\n\u001b[0;32m     14\u001b[0m \u001b[39mfor\u001b[39;00m inputs, labels \u001b[39min\u001b[39;00m dataloaders:\n\u001b[0;32m     15\u001b[0m     inputs\u001b[39m.\u001b[39mrequires_grad_(\u001b[39mTrue\u001b[39;00m)\n\u001b[1;32m---> 16\u001b[0m     inputs \u001b[39m=\u001b[39m inputs\u001b[39m.\u001b[39;49mto(device)\n\u001b[0;32m     17\u001b[0m     labels \u001b[39m=\u001b[39m labels\u001b[39m.\u001b[39mto(device)\n\u001b[0;32m     18\u001b[0m     model\u001b[39m.\u001b[39mto(device)\n",
      "\u001b[1;31mRuntimeError\u001b[0m: CUDA error: device-side assert triggered\nCUDA kernel errors might be asynchronously reported at some other API call,so the stacktrace below might be incorrect.\nFor debugging consider passing CUDA_LAUNCH_BLOCKING=1."
     ]
    }
   ],
   "source": [
    "def train_model(model, dataloaders, crtierion, optimizer, device, num_epochs = 10):\n",
    "    since = time.time()\n",
    "    acc_history = [] # 각 에폭마다 정확도 저장\n",
    "    loss_history = [] # 각 에폭마다 손실함수값 저장\n",
    "    best_acc = 0.0\n",
    "\n",
    "    for epoch in range(num_epochs):\n",
    "        print(f'Epoch {epoch}/{num_epochs - 1}')\n",
    "        print('-' * 10)\n",
    "\n",
    "        running_loss = 0.0 # 손실 함수\n",
    "        running_corrects = 0 # 정답갯수\n",
    "\n",
    "        for inputs, labels in dataloaders:\n",
    "            inputs.requires_grad_(True)\n",
    "            inputs = inputs.to(device)\n",
    "            labels = labels.to(device)\n",
    "            model.to(device)\n",
    "\n",
    "            outputs = model(inputs.squeeze()) # 순전파\n",
    "            \n",
    "            loss = crtierion(outputs, labels.squeeze()) \n",
    "            optimizer.zero_grad() # 기울기를 0으로 설정\n",
    "            # _, preds = torch.max(outputs, 1) # 결과값 추출 배치라면 이게 맞는데 아니라면 출력이 1x7 라서 오류가 일어남\n",
    "            _, preds = torch.max(outputs, 0)\n",
    "            loss.backward() # 역전파 실행 이때 requires_grad = True가 된 완전연결층만 역전파가 됨\n",
    "            optimizer.step() # 기울기 업데이트\n",
    "\n",
    "            running_loss += loss.item() * inputs.size(0) # 출력 결과와 레이블의 오차를 계산한 결과를 누적하여 저장한다\n",
    "            # loss.item() 으로 손실이 갖고 있는 스칼라 값을 가져올 수 있습니다.\n",
    "            running_corrects += torch.sum(preds == labels.data) # 출력 결과와 레이블이 동일한지 확인한 결과를 누적하여 저장\n",
    "\n",
    "        epoch_loss = running_loss / len(dataloaders.dataset)\n",
    "        epoch_acc = running_corrects.double() / len(dataloaders.dataset)\n",
    "\n",
    "        print('Loss: {:.4f} Acc: {:.4f}'.format(epoch_loss,epoch_acc)) # 참고) {:.소수점 자리수f} 포맷 코드 : {} 내에 실수의 소수점 자리수(.소수점 자리수f)를 지정해 줄 수 있음 소수점 4자리 까지 표시함\n",
    "        if epoch_acc > best_acc: # 만약에 어떤 에폭에서의 정확도가 최고 정확도보다 높을 경우 업데이트\n",
    "            best_acc = epoch_acc\n",
    "        \n",
    "        acc_history.append(epoch_acc.item())\n",
    "        loss_history.append(epoch_loss)\n",
    "\n",
    "        print()\n",
    "\n",
    "    time_elapsed = time.time() - since # 실행 시간 계산\n",
    "    print(f'실행 시간 : {time_elapsed // 60:.0f}m {time_elapsed % 60:.0f}s')\n",
    "    print(f'이 모델의 최고 정확도: {best_acc:4f}') # 최고 정확도 \n",
    "\n",
    "    return acc_history, loss_history\n",
    "\n"
   ]
  },
  {
   "cell_type": "code",
   "execution_count": null,
   "metadata": {},
   "outputs": [],
   "source": [
    "acc_history, loss_history = train_model(model, dataloader, criterion, optimizer, device)"
   ]
  },
  {
   "cell_type": "code",
   "execution_count": null,
   "metadata": {},
   "outputs": [],
   "source": [
    "plt.plot(acc_history)\n",
    "plt.plot(loss_history)"
   ]
  }
 ],
 "metadata": {
  "kernelspec": {
   "display_name": "Pytorch_studing",
   "language": "python",
   "name": "python3"
  },
  "language_info": {
   "codemirror_mode": {
    "name": "ipython",
    "version": 3
   },
   "file_extension": ".py",
   "mimetype": "text/x-python",
   "name": "python",
   "nbconvert_exporter": "python",
   "pygments_lexer": "ipython3",
   "version": "3.9.0"
  },
  "orig_nbformat": 4,
  "vscode": {
   "interpreter": {
    "hash": "2d060f0828fc2b117241290c294bd7cf3e183c40a44f56e1a2627712ee0c7af9"
   }
  }
 },
 "nbformat": 4,
 "nbformat_minor": 2
}
