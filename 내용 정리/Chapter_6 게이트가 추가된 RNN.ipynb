{
 "cells": [
  {
   "attachments": {},
   "cell_type": "markdown",
   "metadata": {},
   "source": [
    "## Chapter 6 - 게이트가 추가된 RNN\n",
    "\n",
    "\n",
    "#### 6.1 RNN의 문제점\n",
    "---\n",
    "앞 장에서 설명한 RNN은 시계열 데이터의 장기 의존 관계를 학습하기 어렵습니다. \n",
    "\n",
    "그 이유는 BPTT에서 기울기 소실 혹은 기울기 폭발이 일어나기 때문입니다.\n",
    "\n",
    "![](../image/image_63.png)"
   ]
  },
  {
   "attachments": {},
   "cell_type": "markdown",
   "metadata": {},
   "source": [
    "h<sub>t</sub> = tanh(h<sub>t-1</sub>W<sub>h</sub> + x<sub>t</sub>W<sub>x</sub>+b)\n",
    "\n",
    "임을 잘 기억하자."
   ]
  },
  {
   "attachments": {},
   "cell_type": "markdown",
   "metadata": {},
   "source": [
    "![](../image/image_64.png)\n",
    "\n",
    "![](../image/image_65.png)\n",
    "\n",
    "![](../image/image_66.png)"
   ]
  },
  {
   "attachments": {},
   "cell_type": "markdown",
   "metadata": {},
   "source": [
    "![](../image/image_67.png)"
   ]
  },
  {
   "attachments": {},
   "cell_type": "markdown",
   "metadata": {},
   "source": [
    "##### 1. 파이토치에서의 기울기 클리핑\n",
    "파이토치에서는 그레디언트 클리핑으로 불린다(사실 기울기가 그레디언트....)\n",
    "> 파이토치 : https://pytorch.org/docs/stable/generated/torch.nn.utils.clip_grad_norm_.html#torch.nn.utils.clip_grad_norm_\n",
    "\n",
    "> 참고 글 : https://kh-kim.gitbook.io/natural-language-processing-with-pytorch/00-cover-6/05-gradient-clipping\n",
    "\n",
    "간단히 구현해보자\n",
    "\n",
    "```py\n",
    "def clip_grads(grads, max_norm):\n",
    "    total_norm = 0\n",
    "    for grad in grads:\n",
    "        total_norm += np.sum(grad ** 2)\n",
    "    total_norm = np.sqrt(total_norm)\n",
    "\n",
    "    rate = max_norm / (total_norm + 1e-6)\n",
    "    if rate < 1:\n",
    "        for grad in grads:\n",
    "            grad *= rate\n",
    "```\n",
    "이때 grads는 기울기의 리스트 max_norm은 문턱값을 뜻한다.\n",
    "\n",
    "파이토치에서도 비슷하게 구현이 되어 있다.\n",
    "\n",
    "1. torch.nn.utils.clip_grad_norm_(parameters, max_norm, norm_type=2.0, error_if_nonfinite=False)\n",
    "    - parameters (Iterable[Tensor] or Tensor) : 기울기가 정규화될 텐서 또는 단일 텐서의 반복 가능\n",
    "    - max_norm : 문턱값\n",
    "    - norm_type : type of the used p-norm. Can be 'inf' for infinity norm.\n",
    "    - error_if_nonfinite : 참인 경우 매개 변수의 그라디언트의 전체 표준이 nan, inf 또는 -inf인 경우 오류가 발생합니다. 기본값: false\n",
    "\n",
    "</br>\n",
    "\n",
    "2. 사용법\n",
    "\n",
    "    ```py\n",
    "    import torch.optim as optim\n",
    "    import torch.nn.utils as torch_utils\n",
    "\n",
    "    learning_rate = 1.\n",
    "    max_grad_norm = 5.\n",
    "\n",
    "    optimizer = optim.SGD(model.parameters(), lr=learning_rate)\n",
    "    # In orther to avoid gradient exploding, we apply gradient clipping.\n",
    "    torch_utils.clip_grad_norm_(model.parameters(), max_grad_norm)\n",
    "    # Take a step of gradient descent.\n",
    "    optimizer.step()\n",
    "    ```"
   ]
  },
  {
   "attachments": {},
   "cell_type": "markdown",
   "metadata": {},
   "source": [
    "#### 6.2 기울기 소실과 LSTM\n",
    "---"
   ]
  },
  {
   "attachments": {},
   "cell_type": "markdown",
   "metadata": {},
   "source": [
    "기울기 폭발에 대한 해결책은 기울기 클리핑이여도 여전히 기울기 소실에 대해서는 해결을 하지 못했다.\n",
    "\n",
    "RNN의 기울기 소실에 대한 문제를 해결하기 위해서 '게이트'를 추가했는데 이 것이 바로 '게이트가 추가된 RNN'이다. 대표적으로 LSTM과 GRU가 있다. "
   ]
  },
  {
   "attachments": {},
   "cell_type": "markdown",
   "metadata": {},
   "source": [
    "![](../image/image_68.png)\n",
    "\n",
    "위에서 보듯 LSTM계층의 인터페이스에는 c라는 경로가 있다는 차이가 있습니다. 이 c를 기억 셀(혹은 단순히 셀)이라 하며 LSTM 전용의 기억 메커니즘이랍니다.\n",
    "\n",
    "기억 셀의 특징은 데이터를 자기 자신으로만(LSTM 계층 내에서만) 주고받는다는 것입니다. 즉, LSTM 계층 내에서만 완결되고, 다른 계층으로는 출력하지 않습니다. \n",
    "\n",
    "반면LSTM의 은닉상태 h는 RNN 계층과 마찬가지로 다른 계층으로(위쪽으로) 출력됩니다.\n"
   ]
  },
  {
   "attachments": {},
   "cell_type": "markdown",
   "metadata": {},
   "source": [
    "![](../image/image_69.png)\n",
    "\n",
    "![](../image/image_70.png)"
   ]
  },
  {
   "attachments": {},
   "cell_type": "markdown",
   "metadata": {},
   "source": [
    "![](../image/image_71.png)\n",
    "\n",
    "![](../image/image_72.png)\n",
    "\n",
    "![](../image/image_73.png)\n",
    "\n",
    "![](../image/image_74.png)"
   ]
  },
  {
   "attachments": {},
   "cell_type": "markdown",
   "metadata": {},
   "source": [
    "##### 1. 파이토치의 LSTM\n",
    " "
   ]
  },
  {
   "attachments": {},
   "cell_type": "markdown",
   "metadata": {},
   "source": [
    "> https://pytorch.org/docs/stable/generated/torch.nn.LSTM.html#torch.nn.LSTM\n",
    "\n",
    "> https://justkode.kr/deep-learning/pytorch-rnn\n",
    "\n",
    "![](../image/image_75.png)\n",
    "\n",
    "![](../image/image_76.png)"
   ]
  },
  {
   "attachments": {},
   "cell_type": "markdown",
   "metadata": {},
   "source": [
    "사용예제\n",
    "\n",
    "```py\n",
    "rnn = nn.LSTM(10, 20, 2)\n",
    "input = torch.randn(5, 3, 10)\n",
    "h0 = torch.randn(2, 3, 20)\n",
    "c0 = torch.randn(2, 3, 20)\n",
    "output, (hn, cn) = rnn(input, (h0, c0))\n",
    "```"
   ]
  },
  {
   "attachments": {},
   "cell_type": "markdown",
   "metadata": {},
   "source": [
    "#### 6.3 RNNLM 추가 개선\n",
    "---"
   ]
  },
  {
   "attachments": {},
   "cell_type": "markdown",
   "metadata": {},
   "source": [
    "![](../image/image_77.png)"
   ]
  },
  {
   "attachments": {},
   "cell_type": "markdown",
   "metadata": {},
   "source": [
    "##### 1. 드롭아웃에 의한 과적합 억제\n",
    "![](../image/image_77.png)\n",
    "\n",
    "![](../image/image_78.png)\n",
    "\n",
    "![](../image/image_79.png)"
   ]
  },
  {
   "attachments": {},
   "cell_type": "markdown",
   "metadata": {},
   "source": [
    "![](../image/image_81.png)\n",
    "\n",
    "위 그림에서 보듯 같은 계층의 드롭아웃끼리 마스크를 공유함으로써 마스크가 ‘고정’됩니다. \n",
    "\n",
    "그 결과 정보 를 잃게 되는 방법도 ‘고정’되므로, 일반적인 드롭아웃 때와 달리 정부가 지수적으로 손실되는 사태를 피할 수 있습니다"
   ]
  },
  {
   "attachments": {},
   "cell_type": "markdown",
   "metadata": {},
   "source": [
    "![](../image/image_82.png)"
   ]
  },
  {
   "cell_type": "markdown",
   "metadata": {},
   "source": []
  }
 ],
 "metadata": {
  "kernelspec": {
   "display_name": "Pytorch_studing",
   "language": "python",
   "name": "python3"
  },
  "language_info": {
   "codemirror_mode": {
    "name": "ipython",
    "version": 3
   },
   "file_extension": ".py",
   "mimetype": "text/x-python",
   "name": "python",
   "nbconvert_exporter": "python",
   "pygments_lexer": "ipython3",
   "version": "3.9.0 (default, Nov 15 2020, 08:30:55) [MSC v.1916 64 bit (AMD64)]"
  },
  "orig_nbformat": 4,
  "vscode": {
   "interpreter": {
    "hash": "2d060f0828fc2b117241290c294bd7cf3e183c40a44f56e1a2627712ee0c7af9"
   }
  }
 },
 "nbformat": 4,
 "nbformat_minor": 2
}
